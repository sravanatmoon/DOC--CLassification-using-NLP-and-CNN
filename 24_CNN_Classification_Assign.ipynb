{
  "nbformat": 4,
  "nbformat_minor": 0,
  "metadata": {
    "colab": {
      "name": "24_CNN_Classification_Assign.ipynb",
      "provenance": [],
      "collapsed_sections": [],
      "toc_visible": true,
      "machine_shape": "hm"
    },
    "kernelspec": {
      "name": "python3",
      "display_name": "Python 3"
    },
    "accelerator": "GPU"
  },
  "cells": [
    {
      "cell_type": "markdown",
      "metadata": {
        "id": "z_CRcRKvXjta"
      },
      "source": [
        "# Imports"
      ]
    },
    {
      "cell_type": "code",
      "metadata": {
        "id": "q4zx_WDSHBqQ",
        "outputId": "a0a9b2c0-f4db-4489-a66d-f2b08ed6642a",
        "colab": {
          "base_uri": "https://localhost:8080/",
          "height": 34
        }
      },
      "source": [
        "import re\n",
        "import os\n",
        "import warnings\n",
        "warnings.filterwarnings(\"ignore\")\n",
        "\n",
        "import nltk\n",
        "import numpy as np\n",
        "import pandas as pd\n",
        "import random as rn\n",
        "from tqdm import tqdm, trange\n",
        "import matplotlib.pyplot as plt\n",
        "from nltk import pos_tag as Tag\n",
        "from nltk import ne_chunk as Chunk\n",
        "from nltk import sent_tokenize as S_Tokenize\n",
        "from nltk import word_tokenize as W_Tokenize\n",
        "from sklearn.model_selection import train_test_split as Split\n",
        "from sklearn.preprocessing import OneHotEncoder as OHE\n",
        "\n",
        "import tensorflow as tf\n",
        "import tensorflow_addons as tfa\n",
        "from tensorflow.keras.utils import plot_model\n",
        "from tensorflow.keras.callbacks import TensorBoard, ModelCheckpoint\n",
        "from tensorflow.keras.callbacks import EarlyStopping, ReduceLROnPlateau\n",
        "from tensorflow.keras.layers import Conv1D, Embedding, Flatten, Dropout \n",
        "from tensorflow.keras.layers import Input, Concatenate, MaxPool1D, Dense\n",
        "from tensorflow.keras.preprocessing.text import Tokenizer as tf_Tokenizer\n",
        "from tensorflow.keras.preprocessing.sequence import pad_sequences as tf_pad_sequences\n",
        "\n",
        "print(tf.__version__)\n",
        "tf.compat.v1.logging.set_verbosity(tf.compat.v1.logging.ERROR)"
      ],
      "execution_count": null,
      "outputs": [
        {
          "output_type": "stream",
          "text": [
            "2.3.0\n"
          ],
          "name": "stdout"
        }
      ]
    },
    {
      "cell_type": "markdown",
      "metadata": {
        "id": "KNaluEBl4Org"
      },
      "source": [
        "# Preprocessing"
      ]
    },
    {
      "cell_type": "code",
      "metadata": {
        "id": "QbWb_xHq2kRm"
      },
      "source": [
        "def extract_emails(line, emails):\n",
        "    emails_l = re.findall(r\"[A-Za-z0-9._%+-]+@[A-Za-z0-9.-]+\\.[A-Za-z]{2,4}\", line)\n",
        "    emails +=emails_l\n",
        "    if len(emails_l) !=0:\n",
        "        for email in emails_l:\n",
        "            line = re.sub(re.escape(email), ' ', line).lower()\n",
        "    return line, emails\n",
        "\n",
        "def extract_Subject(line, Subject):\n",
        "    line = re.sub('Subject:', '', line)\n",
        "    line = re.sub('\\w+:', '', line)\n",
        "    line = re.sub('[^A-Za-z0-9]+', ' ', line)\n",
        "    line = re.sub(\"[\\\\n\\\\t ]\", \" \", line)\n",
        "    Subject.append(line.strip())\n",
        "    line = ' '\n",
        "    return line, Subject\n",
        "\n",
        "def remove_word_endcolon(line):\n",
        "    l = ''\n",
        "    for word in line.split(' '):\n",
        "        if re.search(':$', word) == None:\n",
        "            l = l + ' ' + word\n",
        "    return l\n",
        "\n",
        "def decontracted(phrase):\n",
        "    # specific\n",
        "    phrase = re.sub(r\"won't\", \"will not\", phrase)\n",
        "    phrase = re.sub(r\"can\\'t\", \"can not\", phrase)\n",
        "\n",
        "    # general\n",
        "    phrase = re.sub(r\"n\\'t\", \" not\", phrase)\n",
        "    phrase = re.sub(r\"\\'re\", \" are\", phrase)\n",
        "    phrase = re.sub(r\"\\'s\", \" is\", phrase)\n",
        "    phrase = re.sub(r\"\\'d\", \" would\", phrase)\n",
        "    phrase = re.sub(r\"\\'ll\", \" will\", phrase)\n",
        "    phrase = re.sub(r\"\\'t\", \" not\", phrase)\n",
        "    phrase = re.sub(r\"\\'ve\", \" have\", phrase)\n",
        "    phrase = re.sub(r\"\\'m\", \" am\", phrase)\n",
        "    return phrase\n",
        "\n",
        "def Chukit(Line):\n",
        "    for sent in S_Tokenize(Line):\n",
        "        for chunk in Chunk(Tag(W_Tokenize(sent))):\n",
        "            rem = ' '.join(c[0] for c in chunk)\n",
        "            if hasattr(chunk, 'label') and chunk.label() == 'PERSON':\n",
        "                Line = re.sub(re.escape(rem), ' ', Line)\n",
        "            elif hasattr(chunk, 'label'):\n",
        "                change = '_'.join(c[0] for c in chunk)\n",
        "                Line = re.sub(re.escape(rem), change, Line)\n",
        "    return Line\n",
        "\n",
        "def remove_word_endunderscore(line):\n",
        "    for word in line.split():\n",
        "        word_ = re.sub('_$', '', re.sub('^_','', word))\n",
        "        line = re.sub(re.escape(word), word_, line)\n",
        "    return line\n",
        "\n",
        "def remove_1_2_split_by_(line):\n",
        "    for word in line.split():\n",
        "        if len(word.split('_'))>=2:\n",
        "            if '_' in word and len(word.split('_')[0])<=2: \n",
        "                line = re.sub(re.escape(word), word.split('_')[1], line)\n",
        "    return line\n",
        "\n",
        "def remove_word_short_long(line):\n",
        "    l = ''\n",
        "    for word in line.split():\n",
        "        if 2 < len(word) < 14:\n",
        "            l = l +' '+ word\n",
        "    \n",
        "    line = l.lower()\n",
        "    return line\n",
        "\n",
        "def remove_words_except_alpha(line):\n",
        "    line = re.sub('[\\W]+', ' ', line) \n",
        "    return line"
      ],
      "execution_count": null,
      "outputs": []
    },
    {
      "cell_type": "code",
      "metadata": {
        "id": "eAFZAczditvX"
      },
      "source": [
        "def regex_process(line):\n",
        "    line = re.sub('<.*?>', ' ', line)           # 6\n",
        "    line = re.sub('[\\(.*?\\)\\)\\[]]', '', line)   # 7\n",
        "    line = re.sub('[-\\\\t\\\\n \\\\.\\\\\\]', ' ', line)# 8\n",
        "    line = remove_word_endcolon(line)           # 9\n",
        "    line = decontracted(line)                   # 10\n",
        "    line = Chukit(line)                         # 11, 12\n",
        "    line = re.sub('[0-9]+', ' ', line)          # 13\n",
        "    line = remove_word_endunderscore(line)      # 14\n",
        "    line = remove_1_2_split_by_(line)           # 15\n",
        "    line = remove_word_short_long(line)         # 16\n",
        "    line = remove_words_except_alpha(line)      # 17\n",
        "    return line"
      ],
      "execution_count": null,
      "outputs": []
    },
    {
      "cell_type": "code",
      "metadata": {
        "id": "nrjC8U4RzKLq"
      },
      "source": [
        "def preprocess(file_name):\n",
        "    \"\"\"Do all the Preprocessing and return a tuple contain \n",
        "    preprocess_email,preprocess_subject,preprocess_text for the Given Text_data\"\"\"\n",
        "    preprocessed_emails = [] ; Subjects = [] ; preprocessed_text = []\n",
        "\n",
        "    fi = open(f'documents/{file_name}', \"r+\", encoding='ISO-8859-1')\n",
        "    fo = open(f'out_files/{file_name}', \"w+\")\n",
        "    text = '' ; Subject = [] ; emails = [] ; \n",
        "    for line in fi:\n",
        "        line = line.strip().lower()\n",
        "        line, emails = extract_emails(line, emails) # 1, 2\n",
        "        if 'Subject:' in line:  \n",
        "            line, Subject = extract_Subject(line, Subject) ; continue # 3,4 \n",
        "        if 'Write to:' in line or 'From:' in line: \n",
        "            line = ' '  ; continue       # 5\n",
        "        line = regex_process(line)\n",
        "        text = text + line \n",
        "        fo.write(line)  \n",
        "    fo.close()\n",
        "    new_words = [] ; words = None\n",
        "    for email in emails:\n",
        "        words = email.split('@')[1].split('.')\n",
        "        new_words += [word for word in words if (len(word)>2) and word != 'com' ]\n",
        "    prep_email = ' '.join(new_words)\n",
        "    Subjects = ' '.join(Subject)\n",
        "    prep_text = text.strip()\n",
        "    fi.close() \n",
        "    return (prep_email, Subjects, prep_text)"
      ],
      "execution_count": null,
      "outputs": []
    },
    {
      "cell_type": "code",
      "metadata": {
        "id": "MVjtBwGaXB5-"
      },
      "source": [
        "#nltk.download('punkt')\n",
        "#nltk.download('averaged_perceptron_tagger')\n",
        "#nltk.download('maxent_ne_chunker')\n",
        "#nltk.download('words')"
      ],
      "execution_count": null,
      "outputs": []
    },
    {
      "cell_type": "code",
      "metadata": {
        "id": "XIm_-ETEC2Hi"
      },
      "source": [
        "#!pip install unrar\n",
        "#!unrar x '/content/documents.rar'"
      ],
      "execution_count": null,
      "outputs": []
    },
    {
      "cell_type": "code",
      "metadata": {
        "id": "p4RrtnCfRxSf"
      },
      "source": [
        "os.chdir('/content/drive/My Drive/Colab Notebooks/24_ Doc classification - CNN')"
      ],
      "execution_count": null,
      "outputs": []
    },
    {
      "cell_type": "code",
      "metadata": {
        "id": "--fIL_eSHock",
        "outputId": "ea5bc56b-10a2-4f78-a313-264924dbcd15",
        "colab": {
          "base_uri": "https://localhost:8080/",
          "height": 51
        }
      },
      "source": [
        "%%time\n",
        "if  not os.path.isfile('Data.csv'):\n",
        "\n",
        "    if not os.path.isdir('out_files'):\n",
        "        os.makedirs('out_files')\n",
        "\n",
        "    files = os.listdir('documents')\n",
        "    Names = []  ;  Labels = []  ; Preped_Data = []\n",
        "    for file in tqdm(files):\n",
        "        label = file.split('_')[0] ;  Name = file.split('_')[1].split('.')[0]\n",
        "        Labels.append(label)  ; Names.append(Name)\n",
        "\n",
        "        Prep = preprocess(file)  # Preprocessed File\n",
        "        Preped_Data.append(Prep)\n",
        "\n",
        "        df = pd.DataFrame(Preped_Data, \n",
        "                          columns =['prep_email', 'Subjects', 'prep_text']) \n",
        "        df['Names'] = Names ; df['label'] = Labels\n",
        "\n",
        "        df['All_text'] = df['prep_email']+df['Subjects']+df['prep_text']\n",
        "        df = df.drop(['prep_email', 'Subjects', 'prep_text'], axis=1)\n",
        "        df = df[['Names', 'All_text', 'label']]\n",
        "\n",
        "        Data = df.to_csv('Data.csv',index=False)"
      ],
      "execution_count": null,
      "outputs": [
        {
          "output_type": "stream",
          "text": [
            "CPU times: user 1.48 ms, sys: 94 µs, total: 1.58 ms\n",
            "Wall time: 1.58 s\n"
          ],
          "name": "stdout"
        }
      ]
    },
    {
      "cell_type": "markdown",
      "metadata": {
        "id": "AeDu0rhuXpBK"
      },
      "source": [
        "# Load Data and Getting Ready"
      ]
    },
    {
      "cell_type": "code",
      "metadata": {
        "id": "iirk9_NfMX5c",
        "outputId": "431b8d8a-eb72-4445-c785-b1bdf7a65e3c",
        "colab": {
          "base_uri": "https://localhost:8080/",
          "height": 204
        }
      },
      "source": [
        "df = pd.read_csv('Data.csv')\n",
        "X = df.drop(['Names', 'label'], axis=1)\n",
        "Y = df[['label']]\n",
        "df.head()"
      ],
      "execution_count": null,
      "outputs": [
        {
          "output_type": "execute_result",
          "data": {
            "text/html": [
              "<div>\n",
              "<style scoped>\n",
              "    .dataframe tbody tr th:only-of-type {\n",
              "        vertical-align: middle;\n",
              "    }\n",
              "\n",
              "    .dataframe tbody tr th {\n",
              "        vertical-align: top;\n",
              "    }\n",
              "\n",
              "    .dataframe thead th {\n",
              "        text-align: right;\n",
              "    }\n",
              "</style>\n",
              "<table border=\"1\" class=\"dataframe\">\n",
              "  <thead>\n",
              "    <tr style=\"text-align: right;\">\n",
              "      <th></th>\n",
              "      <th>Names</th>\n",
              "      <th>All_text</th>\n",
              "      <th>label</th>\n",
              "    </tr>\n",
              "  </thead>\n",
              "  <tbody>\n",
              "    <tr>\n",
              "      <th>0</th>\n",
              "      <td>54770</td>\n",
              "      <td>news udel edu chopin udel eduuapw odysseus aar...</td>\n",
              "      <td>talk.politics.guns</td>\n",
              "    </tr>\n",
              "    <tr>\n",
              "      <th>1</th>\n",
              "      <td>103167</td>\n",
              "      <td>umd edu aber umd edu cleveland freenet edu umd...</td>\n",
              "      <td>rec.motorcycles</td>\n",
              "    </tr>\n",
              "    <tr>\n",
              "      <th>2</th>\n",
              "      <td>60400</td>\n",
              "      <td>cleveland freenet edu tasha poly edugerard pin...</td>\n",
              "      <td>comp.sys.ibm.pc.hardware</td>\n",
              "    </tr>\n",
              "    <tr>\n",
              "      <th>3</th>\n",
              "      <td>105160</td>\n",
              "      <td>crux princeton edu island island princeton edu...</td>\n",
              "      <td>rec.sport.baseball</td>\n",
              "    </tr>\n",
              "    <tr>\n",
              "      <th>4</th>\n",
              "      <td>105008</td>\n",
              "      <td>cbnewsj att morgan demon morgan demon torreys ...</td>\n",
              "      <td>rec.motorcycles</td>\n",
              "    </tr>\n",
              "  </tbody>\n",
              "</table>\n",
              "</div>"
            ],
            "text/plain": [
              "    Names  ...                     label\n",
              "0   54770  ...        talk.politics.guns\n",
              "1  103167  ...           rec.motorcycles\n",
              "2   60400  ...  comp.sys.ibm.pc.hardware\n",
              "3  105160  ...        rec.sport.baseball\n",
              "4  105008  ...           rec.motorcycles\n",
              "\n",
              "[5 rows x 3 columns]"
            ]
          },
          "metadata": {
            "tags": []
          },
          "execution_count": 11
        }
      ]
    },
    {
      "cell_type": "code",
      "metadata": {
        "id": "pVs1UnolGwDt",
        "outputId": "1eaeb2e4-12eb-4afb-f582-e16529558c70",
        "colab": {
          "base_uri": "https://localhost:8080/",
          "height": 51
        }
      },
      "source": [
        "X_tr, X_te, Y_train, Y_test = Split(X, Y, test_size=0.25, stratify=Y, random_state=42)\n",
        "X_Train = X_tr.reset_index(drop=True)\n",
        "X_Test = X_te.reset_index(drop=True)\n",
        "print(X_Train.shape, X_Test.shape)\n",
        "\n",
        "# one Hot encoding of the target param\n",
        "Encode = OHE(sparse=False)\n",
        "Y_Train = Encode.fit_transform(Y_train.reset_index(drop=True))\n",
        "Y_Test = Encode.fit_transform(Y_test.reset_index(drop=True))\n",
        "print(Y_Train.shape, Y_Test.shape)"
      ],
      "execution_count": null,
      "outputs": [
        {
          "output_type": "stream",
          "text": [
            "(14121, 1) (4707, 1)\n",
            "(14121, 20) (4707, 20)\n"
          ],
          "name": "stdout"
        }
      ]
    },
    {
      "cell_type": "code",
      "metadata": {
        "id": "SX_c7pbM5mfq"
      },
      "source": [
        "#!wget http://nlp.stanford.edu/data/glove.6B.zip\n",
        "#!unzip 'archive.zip'"
      ],
      "execution_count": null,
      "outputs": []
    },
    {
      "cell_type": "code",
      "metadata": {
        "id": "gxul1oBk7iqO",
        "outputId": "e605540a-2dc0-4433-a6a6-77a68f7ee08b",
        "colab": {
          "base_uri": "https://localhost:8080/",
          "height": 34
        }
      },
      "source": [
        "The_Dictionery = {}\n",
        "Glove = open('glove.6B.300d.txt', encoding=\"utf8\")\n",
        "for line in tqdm(Glove):\n",
        "    Word_Vec = line.split()\n",
        "    Word, Vector = Word_Vec[0] ,np.array(Word_Vec[1:], dtype='float32')\n",
        "    The_Dictionery[Word] = Vector\n",
        "\n",
        "Glove.close()"
      ],
      "execution_count": null,
      "outputs": [
        {
          "output_type": "stream",
          "text": [
            "400000it [00:34, 11575.11it/s]\n"
          ],
          "name": "stderr"
        }
      ]
    },
    {
      "cell_type": "code",
      "metadata": {
        "id": "BGmlkDtFeLtZ"
      },
      "source": [
        "from sklearn.metrics import f1_score\n",
        "\n",
        "class f1_Metrics(tf.keras.callbacks.Callback):\n",
        "    def __init__(self, model):\n",
        "        self.model=model\n",
        "    \n",
        "    def on_train_begin(self, logs={}):\n",
        "        self.history={'f1_score': []}\n",
        "        \n",
        "    def on_epoch_end(self, epoch, logs={}):\n",
        "        y_pred = np.asarray(self.model.predict(Test).astype(int))\n",
        "        logs['f1_score'] = f1_score(Y_Test, y_pred, average='micro', zero_division=1)\n",
        "        self.history['f1_score'].append(logs.get('f1_score'))\n",
        "        print('  - f1_score: ', self.history['f1_score'][-1])\n",
        "            "
      ],
      "execution_count": null,
      "outputs": []
    },
    {
      "cell_type": "code",
      "metadata": {
        "id": "olMR_NhzrAHR"
      },
      "source": [
        "# Adam Optimiser with lr=0.001 as the optimiser\n",
        "Opt = tf.keras.optimizers.Adam()\n",
        "\n",
        "# Accuracy and Micro-F1score as Metrics\n",
        "Metrics = ['acc']\n",
        "\n",
        "# Stop training if no improvement in consecutive epochs\n",
        "earlystop = EarlyStopping(monitor='val_acc', patience=2, verbose=1) \n",
        "\n",
        "# Saves Model if improved from prev epoch\n",
        "def checkpoint(M):\n",
        "    return ModelCheckpoint(f'/content/logs/best_model_L{M}_'+'{val_acc:.4f}.h5', 'val_acc', \n",
        "                             save_best_only=True)\n",
        "\n",
        "# Reducs Learning rate to half, if learning stagnates\n",
        "reduce_lr = ReduceLROnPlateau(monitor='val_acc', factor=0.5, patience=1)\n",
        "\n",
        "# Logs for Tensorboard\n",
        "tensorboard_cb = TensorBoard(log_dir=\"/content/logs\")\n"
      ],
      "execution_count": null,
      "outputs": []
    },
    {
      "cell_type": "code",
      "metadata": {
        "id": "Ja9UGN3T7Sv0"
      },
      "source": [
        "def Convol1D(f, k):\n",
        "    return Conv1D(filters=f, kernel_size=k, padding = 'same',\n",
        "                  activation='relu')\n",
        "    \n",
        "def Dense_(n):\n",
        "    return Dense(n, activation='relu')"
      ],
      "execution_count": null,
      "outputs": []
    },
    {
      "cell_type": "markdown",
      "metadata": {
        "id": "ww18lYNdWofF"
      },
      "source": [
        "# Model - 1\n",
        "Using Word Embedding with Glove Vectors. "
      ]
    },
    {
      "cell_type": "markdown",
      "metadata": {
        "id": "eHIAMY3s8Fx9"
      },
      "source": [
        "## Tokenizing"
      ]
    },
    {
      "cell_type": "code",
      "metadata": {
        "id": "IwWJhziw6h6A",
        "outputId": "ec216344-08f8-41c2-b04a-68e29acc7144",
        "colab": {
          "base_uri": "https://localhost:8080/",
          "height": 315
        }
      },
      "source": [
        "Lenths = [len(row.split()) for row in X_Train['All_text']]\n",
        "Sorted_len = np.sort(Lenths)\n",
        "plt.plot(Sorted_len) ; plt.plot(Sorted_len[:-100]) ; plt.plot(Sorted_len[:-284])\n",
        "plt.xlabel('No of files')  ; plt.ylabel('length of file')\n",
        "print(Sorted_len[-284])\n",
        "print(f\"Percentage of lengths above 1000 : {(1-283/14121)*100}\")"
      ],
      "execution_count": null,
      "outputs": [
        {
          "output_type": "stream",
          "text": [
            "1012\n",
            "Percentage of lengths above 1000 : 97.99589264216415\n"
          ],
          "name": "stdout"
        },
        {
          "output_type": "display_data",
          "data": {
            "image/png": "[encoded data removed]",
            "text/plain": [
              "<Figure size 432x288 with 1 Axes>"
            ]
          },
          "metadata": {
            "tags": [],
            "needs_background": "light"
          }
        }
      ]
    },
    {
      "cell_type": "markdown",
      "metadata": {
        "id": "fFdWk_7z66CD"
      },
      "source": [
        "Almost 98% of the points have their length under 1000(Words). So taking Max_len =1000 woud be the best trade off between the Retention of maximum data and time and computational limitations. (Based on Elbow theory)"
      ]
    },
    {
      "cell_type": "code",
      "metadata": {
        "id": "uxYmgfrh66CG"
      },
      "source": [
        "def Seq(text_data, Tok):\n",
        "    lst = list(text_data['All_text'].astype(str))\n",
        "    sequences = Tok.texts_to_sequences(lst)\n",
        "    Padded_Seq = tf_pad_sequences(sequences, maxlen=1000)\n",
        "\n",
        "    return Padded_Seq"
      ],
      "execution_count": null,
      "outputs": []
    },
    {
      "cell_type": "code",
      "metadata": {
        "id": "BjrV59fB66CR",
        "outputId": "c561218e-daad-4671-fb98-9d87896db44e",
        "colab": {
          "base_uri": "https://localhost:8080/",
          "height": 85
        }
      },
      "source": [
        "%%time\n",
        "# Custom filtered Tokenizer to excluse '_' from filtering out. \n",
        "Tok = tf_Tokenizer(filters='!\"#$%&()*+,-./:;<=>?@[\\\\]^`{|}~\\t\\n',oov_token='<OOV>')\n",
        "Tokens = Tok.fit_on_texts(X_Train['All_text'].astype(str))\n",
        "Voc_len = len(Tok.word_index)\n",
        "print( 'Voc_len: ', Voc_len)\n",
        "\n",
        "Train = Seq(X_Train, Tok)\n",
        "Test = Seq(X_Test, Tok)\n",
        "in_shape = Train.shape[1]\n",
        "print(Train.shape, Test.shape)"
      ],
      "execution_count": null,
      "outputs": [
        {
          "output_type": "stream",
          "text": [
            "Voc_len:  98562\n",
            "(14121, 1000) (4707, 1000)\n",
            "CPU times: user 4.51 s, sys: 56.3 ms, total: 4.57 s\n",
            "Wall time: 4.56 s\n"
          ],
          "name": "stdout"
        }
      ]
    },
    {
      "cell_type": "markdown",
      "metadata": {
        "id": "-QVHbfHc66Cc"
      },
      "source": [
        "## Embedding matrix "
      ]
    },
    {
      "cell_type": "code",
      "metadata": {
        "id": "M2mQnAuC66Cc"
      },
      "source": [
        "EMBD_MX = np.zeros((Voc_len+1, 300))\n",
        "for Word, i in Tok.word_index.items():\n",
        "    EMBD_MX[i] = The_Dictionery.get(Word)\n",
        "EMBD_MX = np.nan_to_num(EMBD_MX)   # making zero vectors for those words absent in Glove"
      ],
      "execution_count": null,
      "outputs": []
    },
    {
      "cell_type": "markdown",
      "metadata": {
        "id": "d00q7ZfP66Cg"
      },
      "source": [
        "## Model"
      ]
    },
    {
      "cell_type": "code",
      "metadata": {
        "id": "vTC6qSE27KC3",
        "outputId": "576642dd-65b3-42e8-d739-983d4f25b403",
        "colab": {
          "base_uri": "https://localhost:8080/",
          "height": 850
        }
      },
      "source": [
        "# defining the model\n",
        "def Model_():\n",
        "    input = Input(shape=(in_shape,))\n",
        "    x = Embedding(Voc_len+1,300, weights = [EMBD_MX], input_length=in_shape)(input)\n",
        "    M = Convol1D(16, 7)(x)\n",
        "    N = Convol1D(16, 9)(x)\n",
        "    O = Convol1D(16, 11)(x)\n",
        "    Conc = Concatenate(axis=1)([M,N,O])\n",
        "    Maxpool = MaxPool1D(2, 2)(Conc)\n",
        "    i = Convol1D(16, 3)(Maxpool)\n",
        "    j = Convol1D(16, 5)(Maxpool)\n",
        "    k = Convol1D(16, 7)(Maxpool)\n",
        "    Conc_2 = Concatenate(axis=1)([i,j,k])\n",
        "    Maxpool_2 = MaxPool1D(2,2)(Conc_2)\n",
        "    x = Conv1D(filters=16, kernel_size=5, activation='relu')(Maxpool_2)\n",
        "    x = Flatten()(x)\n",
        "    x = Dense_(64)(x)\n",
        "    x = Dropout(0.6)(x)\n",
        "    x = Dense_(32)(x)\n",
        "    out = Dense(20, activation='softmax')(x)\n",
        "\n",
        "    Model_1 = tf.keras.Model(inputs=input, outputs=out)\n",
        "    return Model_1\n",
        "# summarize the model\n",
        "Model_1 = Model_()\n",
        "print(Model_1.summary())"
      ],
      "execution_count": null,
      "outputs": [
        {
          "output_type": "stream",
          "text": [
            "Model: \"functional_1\"\n",
            "__________________________________________________________________________________________________\n",
            "Layer (type)                    Output Shape         Param #     Connected to                     \n",
            "==================================================================================================\n",
            "input_1 (InputLayer)            [(None, 1000)]       0                                            \n",
            "__________________________________________________________________________________________________\n",
            "embedding (Embedding)           (None, 1000, 300)    29568900    input_1[0][0]                    \n",
            "__________________________________________________________________________________________________\n",
            "conv1d (Conv1D)                 (None, 1000, 16)     33616       embedding[0][0]                  \n",
            "__________________________________________________________________________________________________\n",
            "conv1d_1 (Conv1D)               (None, 1000, 16)     43216       embedding[0][0]                  \n",
            "__________________________________________________________________________________________________\n",
            "conv1d_2 (Conv1D)               (None, 1000, 16)     52816       embedding[0][0]                  \n",
            "__________________________________________________________________________________________________\n",
            "concatenate (Concatenate)       (None, 3000, 16)     0           conv1d[0][0]                     \n",
            "                                                                 conv1d_1[0][0]                   \n",
            "                                                                 conv1d_2[0][0]                   \n",
            "__________________________________________________________________________________________________\n",
            "max_pooling1d (MaxPooling1D)    (None, 1500, 16)     0           concatenate[0][0]                \n",
            "__________________________________________________________________________________________________\n",
            "conv1d_3 (Conv1D)               (None, 1500, 16)     784         max_pooling1d[0][0]              \n",
            "__________________________________________________________________________________________________\n",
            "conv1d_4 (Conv1D)               (None, 1500, 16)     1296        max_pooling1d[0][0]              \n",
            "__________________________________________________________________________________________________\n",
            "conv1d_5 (Conv1D)               (None, 1500, 16)     1808        max_pooling1d[0][0]              \n",
            "__________________________________________________________________________________________________\n",
            "concatenate_1 (Concatenate)     (None, 4500, 16)     0           conv1d_3[0][0]                   \n",
            "                                                                 conv1d_4[0][0]                   \n",
            "                                                                 conv1d_5[0][0]                   \n",
            "__________________________________________________________________________________________________\n",
            "max_pooling1d_1 (MaxPooling1D)  (None, 2250, 16)     0           concatenate_1[0][0]              \n",
            "__________________________________________________________________________________________________\n",
            "conv1d_6 (Conv1D)               (None, 2246, 16)     1296        max_pooling1d_1[0][0]            \n",
            "__________________________________________________________________________________________________\n",
            "flatten (Flatten)               (None, 35936)        0           conv1d_6[0][0]                   \n",
            "__________________________________________________________________________________________________\n",
            "dense (Dense)                   (None, 64)           2299968     flatten[0][0]                    \n",
            "__________________________________________________________________________________________________\n",
            "dropout (Dropout)               (None, 64)           0           dense[0][0]                      \n",
            "__________________________________________________________________________________________________\n",
            "dense_1 (Dense)                 (None, 32)           2080        dropout[0][0]                    \n",
            "__________________________________________________________________________________________________\n",
            "dense_2 (Dense)                 (None, 20)           660         dense_1[0][0]                    \n",
            "==================================================================================================\n",
            "Total params: 32,006,440\n",
            "Trainable params: 32,006,440\n",
            "Non-trainable params: 0\n",
            "__________________________________________________________________________________________________\n",
            "None\n"
          ],
          "name": "stdout"
        }
      ]
    },
    {
      "cell_type": "code",
      "metadata": {
        "id": "Bmw53HAn7jyZ",
        "outputId": "55fbdb56-a0c4-44ca-c477-62123bab0fac",
        "colab": {
          "base_uri": "https://localhost:8080/",
          "height": 1000
        }
      },
      "source": [
        "CB = [f1_Metrics(Model_1), checkpoint(1), tensorboard_cb, earlystop, reduce_lr]\n",
        "\n",
        "!rm -rf /content/logs # Clear Logs\n",
        "# compile the model\n",
        "Model_1.compile(Opt, loss='categorical_crossentropy', metrics = Metrics)\n",
        "\n",
        "with tf.device('/device:GPU:0'):\n",
        "    # Execute the model\n",
        "    Model_1.fit(Train, Y_Train, epochs= 50, batch_size=64, callbacks=CB, \n",
        "              validation_data = (Test, Y_Test),\n",
        "              use_multiprocessing=True)"
      ],
      "execution_count": null,
      "outputs": [
        {
          "output_type": "stream",
          "text": [
            "Epoch 1/50\n",
            "221/221 [==============================] - ETA: 0s - loss: 2.8649 - acc: 0.1016  - f1_score:  0.0\n",
            "221/221 [==============================] - 51s 233ms/step - loss: 2.8649 - acc: 0.1016 - val_loss: 2.4469 - val_acc: 0.2794\n",
            "Epoch 2/50\n",
            "221/221 [==============================] - ETA: 0s - loss: 2.1123 - acc: 0.3017  - f1_score:  0.01893939393939394\n",
            "221/221 [==============================] - 50s 227ms/step - loss: 2.1123 - acc: 0.3017 - val_loss: 1.5081 - val_acc: 0.4925\n",
            "Epoch 3/50\n",
            "221/221 [==============================] - ETA: 0s - loss: 1.5547 - acc: 0.4418  - f1_score:  0.021437578814627996\n",
            "221/221 [==============================] - 50s 227ms/step - loss: 1.5547 - acc: 0.4418 - val_loss: 1.2555 - val_acc: 0.5785\n",
            "Epoch 4/50\n",
            "221/221 [==============================] - ETA: 0s - loss: 1.2468 - acc: 0.5430  - f1_score:  0.04810284055567074\n",
            "221/221 [==============================] - 50s 227ms/step - loss: 1.2468 - acc: 0.5430 - val_loss: 0.9859 - val_acc: 0.6643\n",
            "Epoch 5/50\n",
            "221/221 [==============================] - ETA: 0s - loss: 0.9966 - acc: 0.6155  - f1_score:  0.10201612903225807\n",
            "221/221 [==============================] - 50s 228ms/step - loss: 0.9966 - acc: 0.6155 - val_loss: 0.8678 - val_acc: 0.7064\n",
            "Epoch 6/50\n",
            "221/221 [==============================] - ETA: 0s - loss: 0.8602 - acc: 0.6696  - f1_score:  0.11606964178507104\n",
            "221/221 [==============================] - 50s 225ms/step - loss: 0.8602 - acc: 0.6696 - val_loss: 0.8167 - val_acc: 0.7368\n",
            "Epoch 7/50\n",
            "221/221 [==============================] - ETA: 0s - loss: 0.7053 - acc: 0.7271  - f1_score:  0.15809039326941893\n",
            "221/221 [==============================] - 48s 219ms/step - loss: 0.7053 - acc: 0.7271 - val_loss: 0.7882 - val_acc: 0.7593\n",
            "Epoch 8/50\n",
            "221/221 [==============================] - ETA: 0s - loss: 0.6200 - acc: 0.7695  - f1_score:  0.14240631163708084\n",
            "221/221 [==============================] - 48s 215ms/step - loss: 0.6200 - acc: 0.7695 - val_loss: 0.7847 - val_acc: 0.7597\n",
            "Epoch 9/50\n",
            "221/221 [==============================] - ETA: 0s - loss: 0.5496 - acc: 0.7947  - f1_score:  0.19093353822512485\n",
            "221/221 [==============================] - 48s 215ms/step - loss: 0.5496 - acc: 0.7947 - val_loss: 0.7401 - val_acc: 0.7754\n",
            "Epoch 10/50\n",
            "221/221 [==============================] - ETA: 0s - loss: 0.4674 - acc: 0.8305  - f1_score:  0.24380242311276795\n",
            "221/221 [==============================] - 47s 215ms/step - loss: 0.4674 - acc: 0.8305 - val_loss: 0.7656 - val_acc: 0.7941\n",
            "Epoch 11/50\n",
            "221/221 [==============================] - ETA: 0s - loss: 0.4213 - acc: 0.8513  - f1_score:  0.22828130876269273\n",
            "221/221 [==============================] - 47s 210ms/step - loss: 0.4213 - acc: 0.8513 - val_loss: 0.8075 - val_acc: 0.7888\n",
            "Epoch 12/50\n",
            "221/221 [==============================] - ETA: 0s - loss: 0.3258 - acc: 0.8883  - f1_score:  0.28628592215351034\n",
            "221/221 [==============================] - 47s 212ms/step - loss: 0.3258 - acc: 0.8883 - val_loss: 0.8013 - val_acc: 0.8056\n",
            "Epoch 13/50\n",
            "221/221 [==============================] - ETA: 0s - loss: 0.2982 - acc: 0.9014  - f1_score:  0.29645697758496026\n",
            "221/221 [==============================] - 47s 211ms/step - loss: 0.2982 - acc: 0.9014 - val_loss: 0.8316 - val_acc: 0.8054\n",
            "Epoch 14/50\n",
            "221/221 [==============================] - ETA: 0s - loss: 0.2699 - acc: 0.9094  - f1_score:  0.30777518405458787\n",
            "221/221 [==============================] - 48s 216ms/step - loss: 0.2699 - acc: 0.9094 - val_loss: 0.8674 - val_acc: 0.8116\n",
            "Epoch 15/50\n",
            "221/221 [==============================] - ETA: 0s - loss: 0.2490 - acc: 0.9174  - f1_score:  0.3277176804397943\n",
            "221/221 [==============================] - 48s 216ms/step - loss: 0.2490 - acc: 0.9174 - val_loss: 0.8616 - val_acc: 0.8232\n",
            "Epoch 16/50\n",
            "221/221 [==============================] - ETA: 0s - loss: 0.2287 - acc: 0.9233  - f1_score:  0.3410170684497625\n",
            "221/221 [==============================] - 47s 211ms/step - loss: 0.2287 - acc: 0.9233 - val_loss: 0.9112 - val_acc: 0.8198\n",
            "Epoch 17/50\n",
            "221/221 [==============================] - ETA: 0s - loss: 0.2245 - acc: 0.9290  - f1_score:  0.33897110641296685\n",
            "221/221 [==============================] - 47s 212ms/step - loss: 0.2245 - acc: 0.9290 - val_loss: 0.9125 - val_acc: 0.8271\n",
            "Epoch 18/50\n",
            "221/221 [==============================] - ETA: 0s - loss: 0.2130 - acc: 0.9310  - f1_score:  0.35024492652204336\n",
            "221/221 [==============================] - 46s 210ms/step - loss: 0.2130 - acc: 0.9310 - val_loss: 0.9511 - val_acc: 0.8281\n",
            "Epoch 19/50\n",
            "221/221 [==============================] - ETA: 0s - loss: 0.2104 - acc: 0.9352  - f1_score:  0.35357766143106456\n",
            "221/221 [==============================] - 45s 205ms/step - loss: 0.2104 - acc: 0.9352 - val_loss: 0.9662 - val_acc: 0.8230\n",
            "Epoch 20/50\n",
            "221/221 [==============================] - ETA: 0s - loss: 0.1981 - acc: 0.9367  - f1_score:  0.362182829336114\n",
            "221/221 [==============================] - 46s 208ms/step - loss: 0.1981 - acc: 0.9367 - val_loss: 0.9759 - val_acc: 0.8262\n",
            "Epoch 00020: early stopping\n"
          ],
          "name": "stdout"
        }
      ]
    },
    {
      "cell_type": "code",
      "metadata": {
        "id": "65e9nDsP7uN8",
        "outputId": "09ce3189-60cd-472f-9551-1a48b45ef939",
        "colab": {
          "base_uri": "https://localhost:8080/",
          "height": 615
        }
      },
      "source": [
        "!tensorboard dev upload --logdir /content/logs \\\n",
        "  --name \"Doc Classification using 1D CNN Model_1\" \\\n",
        "  --description \"Training results from https://colab.research.google.com/drive/1eD9wkwlZTz8JRIAcFa1fXbyeOi90vISB#scrollTo=BPUvjkh2aMMP\" \\\n",
        "  --one_shot"
      ],
      "execution_count": null,
      "outputs": [
        {
          "output_type": "stream",
          "text": [
            "2020-10-08 14:47:51.081486: I tensorflow/stream_executor/platform/default/dso_loader.cc:48] Successfully opened dynamic library libcudart.so.10.1\n",
            "\n",
            "***** TensorBoard Uploader *****\n",
            "\n",
            "This will upload your TensorBoard logs to https://tensorboard.dev/ from\n",
            "the following directory:\n",
            "\n",
            "/content/logs\n",
            "\n",
            "This TensorBoard will be visible to everyone. Do not upload sensitive\n",
            "data.\n",
            "\n",
            "Your use of this service is subject to Google's Terms of Service\n",
            "<https://policies.google.com/terms> and Privacy Policy\n",
            "<https://policies.google.com/privacy>, and TensorBoard.dev's Terms of Service\n",
            "<https://tensorboard.dev/policy/terms/>.\n",
            "\n",
            "This notice will not be shown again while you are logged into the uploader.\n",
            "To log out, run `tensorboard dev auth revoke`.\n",
            "\n",
            "Continue? (yes/NO) y\n",
            "\n",
            "Please visit this URL to authorize this application: https://accounts.google.com/o/oauth2/auth?response_type=code&client_id=373649185512-8v619h5kft38l4456nm2dj4ubeqsrvh6.apps.googleusercontent.com&redirect_uri=urn%3Aietf%3Awg%3Aoauth%3A2.0%3Aoob&scope=openid+https%3A%2F%2Fwww.googleapis.com%2Fauth%2Fuserinfo.email&state=VwwdyEXXsJxw8HLgzAliLLhDjsdPTD&prompt=consent&access_type=offline\n",
            "Enter the authorization code: 4/5AFHHE1h5AJrlRtwsrRSYwoCTf2jl7NgtmJ7AlmahuReJvzlFxIrMvA\n",
            "\n",
            "Upload started and will continue reading any new data as it's added\n",
            "to the logdir. To stop uploading, press Ctrl-C.\n",
            "\n",
            "View your TensorBoard live at: https://tensorboard.dev/experiment/nKkOE2iVR7Ofgm7sVN5BsQ/\n",
            "\n",
            "\u001b[1m[2020-10-08T14:53:05]\u001b[0m Uploader started.\n",
            "\u001b[1m[2020-10-08T14:53:06]\u001b[0m Total uploaded: 80 scalars, 0 tensors, 1 binary objects (20.2 kB)\n",
            "\u001b[2K\u001b[33mListening for new data in logdir...\u001b[0m\n",
            "Done. View your TensorBoard at https://tensorboard.dev/experiment/nKkOE2iVR7Ofgm7sVN5BsQ/\n"
          ],
          "name": "stdout"
        }
      ]
    },
    {
      "cell_type": "code",
      "metadata": {
        "id": "kuleE_DK7wmm",
        "outputId": "db4a5c35-7526-4a64-f62c-36f470abc9d1",
        "colab": {
          "base_uri": "https://localhost:8080/",
          "height": 1000
        }
      },
      "source": [
        "tf.keras.utils.plot_model(Model_1, to_file='model.png', show_shapes=False, \n",
        "                          show_layer_names=True, rankdir='TB', expand_nested=False, dpi=96)"
      ],
      "execution_count": null,
      "outputs": [
        {
          "output_type": "execute_result",
          "data": {
            "image/png": "[encoded data removed]",
            "text/plain": [
              "<IPython.core.display.Image object>"
            ]
          },
          "metadata": {
            "tags": []
          },
          "execution_count": 25
        }
      ]
    },
    {
      "cell_type": "markdown",
      "metadata": {
        "id": "UhJQ43Mc5ZI2"
      },
      "source": [
        "# Model - 2\n",
        "Using Character Level Embeddings and Glove Weights "
      ]
    },
    {
      "cell_type": "markdown",
      "metadata": {
        "id": "RkiSXoHEXwhl"
      },
      "source": [
        "## Tokenizing"
      ]
    },
    {
      "cell_type": "code",
      "metadata": {
        "id": "x_tSn0n8TGpy",
        "outputId": "74162bd1-f434-403f-a811-26af6bf78f56",
        "colab": {
          "base_uri": "https://localhost:8080/",
          "height": 313
        }
      },
      "source": [
        "Lenths = [len(row) for row in X_Train['All_text']]\n",
        "Sorted_len = np.sort(Lenths)\n",
        "plt.plot(Sorted_len) ; plt.plot(Sorted_len[:-100]) ; plt.plot(Sorted_len[:-392])\n",
        "plt.xlabel('No of files')  ; plt.ylabel('length of file')\n",
        "print(Sorted_len[-140])\n",
        "print(f\"Percentage of lengths above 5000 : {(1-392/14121)*100}\")"
      ],
      "execution_count": null,
      "outputs": [
        {
          "output_type": "stream",
          "text": [
            "10004\n",
            "Percentage of lengths above 5000 : 97.2239926350825\n"
          ],
          "name": "stdout"
        },
        {
          "output_type": "display_data",
          "data": {
            "image/png": "[encoded data removed]",
            "text/plain": [
              "<Figure size 432x288 with 1 Axes>"
            ]
          },
          "metadata": {
            "tags": [],
            "needs_background": "light"
          }
        }
      ]
    },
    {
      "cell_type": "markdown",
      "metadata": {
        "id": "4wTrtqA4D4Mk"
      },
      "source": [
        "More than 97% of the points have their length under 5000(characters). So taking Max_len =5000 woud be the best trade off between the Retention of maximum data and time and computational limitations. (Based on Elbow theory)"
      ]
    },
    {
      "cell_type": "code",
      "metadata": {
        "id": "FGPVxMf0Y9Nd"
      },
      "source": [
        "def Seq(text_data, Tok):\n",
        "    lst = list(text_data['All_text'].astype(str))\n",
        "    sequences = Tok.texts_to_sequences(lst)\n",
        "    Padded_Seq = tf_pad_sequences(sequences, maxlen=10000)\n",
        "\n",
        "    return Padded_Seq"
      ],
      "execution_count": null,
      "outputs": []
    },
    {
      "cell_type": "code",
      "metadata": {
        "id": "mqMaXKeamA5F",
        "outputId": "deed2086-2687-4a97-c083-7c162c15bad0",
        "colab": {
          "base_uri": "https://localhost:8080/",
          "height": 85
        }
      },
      "source": [
        "%%time\n",
        "# Custom filtered Tokenizer to excluse '_' from filtering out. \n",
        "Tok = tf_Tokenizer(filters='!\"#$%&()*+,-./:;<=>?@[\\\\]^`{|}~\\t\\n',oov_token='<OOV>', char_level=True)\n",
        "Tokens = Tok.fit_on_texts(X_Train['All_text'].astype(str))\n",
        "Voc_len = len(Tok.word_index)\n",
        "print( 'Voc_len: ', Voc_len)\n",
        "\n",
        "Train = Seq(X_Train, Tok)\n",
        "Test = Seq(X_Test, Tok)\n",
        "in_shape = Train.shape[1]\n",
        "print(Train.shape, Test.shape)"
      ],
      "execution_count": null,
      "outputs": [
        {
          "output_type": "stream",
          "text": [
            "Voc_len:  55\n",
            "(14121, 10000) (4707, 10000)\n",
            "CPU times: user 10.5 s, sys: 225 ms, total: 10.7 s\n",
            "Wall time: 10.7 s\n"
          ],
          "name": "stdout"
        }
      ]
    },
    {
      "cell_type": "markdown",
      "metadata": {
        "id": "4msGjSnh6N_o"
      },
      "source": [
        "## Embedding matrix "
      ]
    },
    {
      "cell_type": "code",
      "metadata": {
        "id": "lpIAuveQ7oWJ"
      },
      "source": [
        "EMBD_MX = np.zeros((Voc_len+1, 300))\n",
        "for Word, i in Tok.word_index.items():\n",
        "    EMBD_MX[i] = The_Dictionery.get(Word)\n",
        "EMBD_MX = np.nan_to_num(EMBD_MX)   # making zero vectors for those words absent in Glove"
      ],
      "execution_count": null,
      "outputs": []
    },
    {
      "cell_type": "markdown",
      "metadata": {
        "id": "MREageJlX5wI"
      },
      "source": [
        "## Model"
      ]
    },
    {
      "cell_type": "code",
      "metadata": {
        "id": "NLYiIg6GpGpR",
        "outputId": "a972a2ea-af12-4125-edd9-5f0b0d53c07b",
        "colab": {
          "base_uri": "https://localhost:8080/",
          "height": 578
        }
      },
      "source": [
        "# defining the model\n",
        "Model_2 = tf.keras.Sequential([\n",
        "            Input(shape=(in_shape,)),\n",
        "            Embedding(Voc_len+1, 300, weights = [EMBD_MX], input_length=in_shape),\n",
        "            Convol1D(16, 7), \n",
        "            Convol1D(16, 9), \n",
        "            MaxPool1D(2, 2), \n",
        "            Convol1D(16, 11), \n",
        "            Convol1D(16, 13),\n",
        "            MaxPool1D(2, 2), \n",
        "            Flatten(), \n",
        "            Dense_(64),\n",
        "            Dropout(0.4), \n",
        "            Dense(32, activation='relu'), \n",
        "            Dense(20, activation='softmax') ])\n",
        "\n",
        "# summarize the model\n",
        "print(Model_2.summary())"
      ],
      "execution_count": null,
      "outputs": [
        {
          "output_type": "stream",
          "text": [
            "Model: \"sequential\"\n",
            "_________________________________________________________________\n",
            "Layer (type)                 Output Shape              Param #   \n",
            "=================================================================\n",
            "embedding_1 (Embedding)      (None, 10000, 300)        16800     \n",
            "_________________________________________________________________\n",
            "conv1d_7 (Conv1D)            (None, 10000, 16)         33616     \n",
            "_________________________________________________________________\n",
            "conv1d_8 (Conv1D)            (None, 10000, 16)         2320      \n",
            "_________________________________________________________________\n",
            "max_pooling1d_2 (MaxPooling1 (None, 5000, 16)          0         \n",
            "_________________________________________________________________\n",
            "conv1d_9 (Conv1D)            (None, 5000, 16)          2832      \n",
            "_________________________________________________________________\n",
            "conv1d_10 (Conv1D)           (None, 5000, 16)          3344      \n",
            "_________________________________________________________________\n",
            "max_pooling1d_3 (MaxPooling1 (None, 2500, 16)          0         \n",
            "_________________________________________________________________\n",
            "flatten_1 (Flatten)          (None, 40000)             0         \n",
            "_________________________________________________________________\n",
            "dense_3 (Dense)              (None, 64)                2560064   \n",
            "_________________________________________________________________\n",
            "dropout_1 (Dropout)          (None, 64)                0         \n",
            "_________________________________________________________________\n",
            "dense_4 (Dense)              (None, 32)                2080      \n",
            "_________________________________________________________________\n",
            "dense_5 (Dense)              (None, 20)                660       \n",
            "=================================================================\n",
            "Total params: 2,621,716\n",
            "Trainable params: 2,621,716\n",
            "Non-trainable params: 0\n",
            "_________________________________________________________________\n",
            "None\n"
          ],
          "name": "stdout"
        }
      ]
    },
    {
      "cell_type": "code",
      "metadata": {
        "id": "UJ_u3tkNoFEw",
        "outputId": "26d58761-5ab7-46ff-904b-f81c6e914e45",
        "colab": {
          "base_uri": "https://localhost:8080/",
          "height": 717
        }
      },
      "source": [
        "CB = [f1_Metrics(Model_2), checkpoint(2), tensorboard_cb, earlystop, reduce_lr]\n",
        "\n",
        "!rm -rf /content/logs # Clear Logs\n",
        "# compile the model\n",
        "Model_2.compile(tf.keras.optimizers.Adam(), 'categorical_crossentropy', metrics = Metrics)\n",
        "\n",
        "with tf.device('/device:GPU:0'):\n",
        "    # Execute the model\n",
        "    Model_2.fit(Train, Y_Train, epochs= 50, batch_size=64, callbacks=CB, \n",
        "              validation_data = (Test, Y_Test), \n",
        "              use_multiprocessing=True)"
      ],
      "execution_count": null,
      "outputs": [
        {
          "output_type": "stream",
          "text": [
            "Epoch 1/50\n",
            "221/221 [==============================] - ETA: 0s - loss: 2.9692 - acc: 0.0680  - f1_score:  0.0\n",
            "221/221 [==============================] - 102s 461ms/step - loss: 2.9692 - acc: 0.0680 - val_loss: 2.9336 - val_acc: 0.0809\n",
            "Epoch 2/50\n",
            "221/221 [==============================] - ETA: 0s - loss: 2.9301 - acc: 0.0787  - f1_score:  0.0\n",
            "221/221 [==============================] - 100s 454ms/step - loss: 2.9301 - acc: 0.0787 - val_loss: 2.9126 - val_acc: 0.0884\n",
            "Epoch 3/50\n",
            "221/221 [==============================] - ETA: 0s - loss: 2.8174 - acc: 0.0969  - f1_score:  0.0\n",
            "221/221 [==============================] - 101s 456ms/step - loss: 2.8174 - acc: 0.0969 - val_loss: 2.7088 - val_acc: 0.1277\n",
            "Epoch 4/50\n",
            "221/221 [==============================] - ETA: 0s - loss: 2.6617 - acc: 0.1205  - f1_score:  0.0\n",
            "221/221 [==============================] - 101s 455ms/step - loss: 2.6617 - acc: 0.1205 - val_loss: 2.5766 - val_acc: 0.1470\n",
            "Epoch 5/50\n",
            "221/221 [==============================] - ETA: 0s - loss: 2.4939 - acc: 0.1639  - f1_score:  0.0\n",
            "221/221 [==============================] - 101s 456ms/step - loss: 2.4939 - acc: 0.1639 - val_loss: 2.4568 - val_acc: 0.1776\n",
            "Epoch 6/50\n",
            "221/221 [==============================] - ETA: 0s - loss: 2.3561 - acc: 0.1942  - f1_score:  0.0\n",
            "221/221 [==============================] - 101s 455ms/step - loss: 2.3561 - acc: 0.1942 - val_loss: 2.3546 - val_acc: 0.2165\n",
            "Epoch 7/50\n",
            "221/221 [==============================] - ETA: 0s - loss: 2.2327 - acc: 0.2379  - f1_score:  0.0\n",
            "221/221 [==============================] - 101s 456ms/step - loss: 2.2327 - acc: 0.2379 - val_loss: 2.4173 - val_acc: 0.2025\n",
            "Epoch 8/50\n",
            "221/221 [==============================] - ETA: 0s - loss: 2.1095 - acc: 0.2680  - f1_score:  0.0\n",
            "221/221 [==============================] - 101s 455ms/step - loss: 2.1095 - acc: 0.2680 - val_loss: 2.2953 - val_acc: 0.2390\n",
            "Epoch 9/50\n",
            "221/221 [==============================] - ETA: 0s - loss: 2.0316 - acc: 0.2923  - f1_score:  0.0012738853503184713\n",
            "221/221 [==============================] - 101s 455ms/step - loss: 2.0316 - acc: 0.2923 - val_loss: 2.2927 - val_acc: 0.2354\n",
            "Epoch 10/50\n",
            "221/221 [==============================] - ETA: 0s - loss: 1.9370 - acc: 0.3263  - f1_score:  0.000849437247823317\n",
            "221/221 [==============================] - 101s 458ms/step - loss: 1.9370 - acc: 0.3263 - val_loss: 2.2948 - val_acc: 0.2481\n",
            "Epoch 11/50\n",
            "221/221 [==============================] - ETA: 0s - loss: 1.8844 - acc: 0.3367  - f1_score:  0.0004248088360237893\n",
            "221/221 [==============================] - 100s 453ms/step - loss: 1.8844 - acc: 0.3367 - val_loss: 2.3169 - val_acc: 0.2513\n",
            "Epoch 12/50\n",
            "221/221 [==============================] - ETA: 0s - loss: 1.8434 - acc: 0.3487  - f1_score:  0.0004248088360237893\n",
            "221/221 [==============================] - 101s 455ms/step - loss: 1.8434 - acc: 0.3487 - val_loss: 2.3291 - val_acc: 0.2447\n",
            "Epoch 13/50\n",
            "221/221 [==============================] - ETA: 0s - loss: 1.7925 - acc: 0.3682  - f1_score:  0.000849437247823317\n",
            "221/221 [==============================] - 101s 455ms/step - loss: 1.7925 - acc: 0.3682 - val_loss: 2.3409 - val_acc: 0.2505\n",
            "Epoch 00013: early stopping\n"
          ],
          "name": "stdout"
        }
      ]
    },
    {
      "cell_type": "code",
      "metadata": {
        "id": "GRtzwytILUF6",
        "outputId": "9eeba6ff-6a81-4e3e-a95f-e44883eef732",
        "colab": {
          "base_uri": "https://localhost:8080/",
          "height": 207
        }
      },
      "source": [
        "!tensorboard dev upload --logdir /content/logs \\\n",
        "  --name \"Doc Classification using 1D CNN Model_2\" \\\n",
        "  --description \"Training results from https://colab.research.google.com/drive/1eD9wkwlZTz8JRIAcFa1fXbyeOi90vISB#scrollTo=BPUvjkh2aMMP\" \\\n",
        "  --one_shot"
      ],
      "execution_count": null,
      "outputs": [
        {
          "output_type": "stream",
          "text": [
            "2020-10-08 15:15:16.617250: I tensorflow/stream_executor/platform/default/dso_loader.cc:48] Successfully opened dynamic library libcudart.so.10.1\n",
            "Upload started and will continue reading any new data as it's added\n",
            "to the logdir. To stop uploading, press Ctrl-C.\n",
            "\n",
            "View your TensorBoard live at: https://tensorboard.dev/experiment/PC5B7VEgSKizxWRdxjLV0A/\n",
            "\n",
            "\u001b[1m[2020-10-08T15:15:18]\u001b[0m Uploader started.\n",
            "\u001b[1m[2020-10-08T15:15:19]\u001b[0m Total uploaded: 52 scalars, 0 tensors, 1 binary objects (34.7 kB)\n",
            "\u001b[2K\u001b[33mListening for new data in logdir...\u001b[0m\n",
            "Done. View your TensorBoard at https://tensorboard.dev/experiment/PC5B7VEgSKizxWRdxjLV0A/\n"
          ],
          "name": "stdout"
        }
      ]
    },
    {
      "cell_type": "code",
      "metadata": {
        "id": "JWnfLH3eLqVy",
        "outputId": "ea9517b8-6844-46f9-ce55-88fb3ced5c94",
        "colab": {
          "base_uri": "https://localhost:8080/",
          "height": 1000
        }
      },
      "source": [
        "tf.keras.utils.plot_model(Model_2, to_file='model.png', show_shapes=False, \n",
        "                          show_layer_names=True, rankdir='TB', expand_nested=False, dpi=96)"
      ],
      "execution_count": null,
      "outputs": [
        {
          "output_type": "execute_result",
          "data": {
            "image/png": "[encoded data removed]",
            "text/plain": [
              "<IPython.core.display.Image object>"
            ]
          },
          "metadata": {
            "tags": []
          },
          "execution_count": 33
        }
      ]
    },
    {
      "cell_type": "markdown",
      "metadata": {
        "id": "D06ubVy8CoDm"
      },
      "source": [
        "#Observations"
      ]
    },
    {
      "cell_type": "markdown",
      "metadata": {
        "id": "FYq0SV44CtJA"
      },
      "source": [
        "We can see the Following results of the same Data from 2 different models \n",
        "\n",
        "Model - 1: Using Word embedding and Glove Vectors\n",
        "\n",
        "\n",
        "*   Used the Tensorflow Tokenizer with custom filter for excluding the '_' from filtering out. \n",
        "*   The Tokenizer was based on Word Tokens And Decided the max lenghth by trade off as mentioned. \n",
        "*   The results were pretty Good with almost 83% accuracy on validation data\n",
        "\n",
        "    .\n",
        "\n",
        "Model - 2: Using Character level embedding and Glove Vectors\n",
        "\n",
        "\n",
        "*   Used the Tensorflow Tokenizer with Character level Tokenizing. \n",
        "*   The Tokenizer was based on Character Tokens And Decided the max lenghth by trade off as mentioned. \n",
        "*   The results were lower side compared to Word Embeddings ending up with 25% accuracy on validation data\n",
        "\n"
      ]
    }
  ]
}